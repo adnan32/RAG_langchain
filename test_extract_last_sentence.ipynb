{
 "cells": [
  {
   "cell_type": "code",
   "execution_count": null,
   "id": "e1ef49de",
   "metadata": {},
   "outputs": [],
   "source": [
    "import re\n",
    "def extract_the_laste_sentence(text):\n",
    "    text=text.replace('\\r\\n', ' ').replace('\\n', ' ')\n",
    "    text = re.sub(r'-\\s+', '',text)\n",
    "    sentence=re.split(r'(?<=[.!?])\\s',text.strip())\n",
    "    if not sentence:\n",
    "        return text.strip()\n",
    "    return sentence[-1]"
   ]
  },
  {
   "cell_type": "code",
   "execution_count": 5,
   "id": "04b4b4ac",
   "metadata": {},
   "outputs": [
    {
     "data": {
      "text/plain": [
       "'Together, these directions would move the field closer to fully autonomous, adaptive, and environmentally responsible waste'"
      ]
     },
     "execution_count": 5,
     "metadata": {},
     "output_type": "execute_result"
    }
   ],
   "source": [
    "text=\"Finally, the generalizability of the approaches developed here could be tested across different waste streams (e.g., organic, \\n hazardous) and different urban contexts (e.g., highly dense cities, rural municipalities). Each setting presents unique logistical challenges, such as different waste generation rhythms, vehicle constraints, and road network characteristics. Extending and adapting the synthetic data generation, pre- dicting, and optimization methods to these varied contexts would enhance the ver- satility and scalability of the overall framework. In summary, future work should focus on real-world validation, dynamic integra- tionofpredictiveandoperationalmodels, robustuncertaintyhandling, andextension toward sustainability-centric objectives. Together, these directions would move the field closer to fully autonomous, adaptive, and environmentally responsible waste\"\n",
    "extract_the_last_sentence(text)"
   ]
  }
 ],
 "metadata": {
  "kernelspec": {
   "display_name": "rag-env",
   "language": "python",
   "name": "python3"
  },
  "language_info": {
   "codemirror_mode": {
    "name": "ipython",
    "version": 3
   },
   "file_extension": ".py",
   "mimetype": "text/x-python",
   "name": "python",
   "nbconvert_exporter": "python",
   "pygments_lexer": "ipython3",
   "version": "3.10.18"
  }
 },
 "nbformat": 4,
 "nbformat_minor": 5
}
